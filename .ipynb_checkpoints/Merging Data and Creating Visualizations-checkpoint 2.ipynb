{
 "cells": [
  {
   "cell_type": "markdown",
   "metadata": {},
   "source": [
    "# Merging Data and Creating Plotly Visualizations"
   ]
  },
  {
   "cell_type": "markdown",
   "metadata": {},
   "source": [
    "## Import Libraries and Data"
   ]
  },
  {
   "cell_type": "code",
   "execution_count": 1,
   "metadata": {},
   "outputs": [
    {
     "ename": "ImportError",
     "evalue": "Unable to import required dependencies:\nnumpy: \n\nIMPORTANT: PLEASE READ THIS FOR ADVICE ON HOW TO SOLVE THIS ISSUE!\n\nImporting the numpy c-extensions failed.\n- Try uninstalling and reinstalling numpy.\n- If you have already done that, then:\n  1. Check that you expected to use Python3.8 from \"/Users/Camila/Desktop/Business Analytics/Python Assignments/ba-venv/bin/python\",\n     and that you have no directories in your PATH or PYTHONPATH that can\n     interfere with the Python and numpy version \"1.18.3\" you're trying to use.\n  2. If (1) looks fine, you can open a new issue at\n     https://github.com/numpy/numpy/issues.  Please include details on:\n     - how you installed Python\n     - how you installed numpy\n     - your operating system\n     - whether or not you have multiple versions of Python installed\n     - if you built from source, your compiler versions and ideally a build log\n\n- If you're working with a numpy git repository, try `git clean -xdf`\n  (removes all files not under version control) and rebuild numpy.\n\nNote: this error has many possible causes, so please don't comment on\nan existing issue about this - open a new one instead.\n\nOriginal error was: No module named 'numpy.core._multiarray_umath'\n",
     "output_type": "error",
     "traceback": [
      "\u001b[0;31m---------------------------------------------------------------------------\u001b[0m",
      "\u001b[0;31mImportError\u001b[0m                               Traceback (most recent call last)",
      "\u001b[0;32m<ipython-input-1-6af992ea9a6b>\u001b[0m in \u001b[0;36m<module>\u001b[0;34m\u001b[0m\n\u001b[1;32m      1\u001b[0m \u001b[0;31m# Import Libraries\u001b[0m\u001b[0;34m\u001b[0m\u001b[0;34m\u001b[0m\u001b[0;34m\u001b[0m\u001b[0m\n\u001b[0;32m----> 2\u001b[0;31m \u001b[0;32mimport\u001b[0m \u001b[0mpandas\u001b[0m \u001b[0;32mas\u001b[0m \u001b[0mpd\u001b[0m\u001b[0;34m\u001b[0m\u001b[0;34m\u001b[0m\u001b[0m\n\u001b[0m\u001b[1;32m      3\u001b[0m \u001b[0;32mimport\u001b[0m \u001b[0mnumpy\u001b[0m \u001b[0;32mas\u001b[0m \u001b[0mnp\u001b[0m\u001b[0;34m\u001b[0m\u001b[0;34m\u001b[0m\u001b[0m\n\u001b[1;32m      4\u001b[0m \u001b[0;32mimport\u001b[0m \u001b[0mplotly\u001b[0m\u001b[0;34m.\u001b[0m\u001b[0mexpress\u001b[0m \u001b[0;32mas\u001b[0m \u001b[0mpx\u001b[0m\u001b[0;34m\u001b[0m\u001b[0;34m\u001b[0m\u001b[0m\n\u001b[1;32m      5\u001b[0m \u001b[0;32mimport\u001b[0m \u001b[0mplotly\u001b[0m\u001b[0;34m.\u001b[0m\u001b[0mfigure_factory\u001b[0m \u001b[0;32mas\u001b[0m \u001b[0mff\u001b[0m\u001b[0;34m\u001b[0m\u001b[0;34m\u001b[0m\u001b[0m\n",
      "\u001b[0;32m~/Desktop/Business Analytics/Python Assignments/ba-venv/lib/python3.8/site-packages/pandas/__init__.py\u001b[0m in \u001b[0;36m<module>\u001b[0;34m\u001b[0m\n\u001b[1;32m     14\u001b[0m \u001b[0;34m\u001b[0m\u001b[0m\n\u001b[1;32m     15\u001b[0m \u001b[0;32mif\u001b[0m \u001b[0mmissing_dependencies\u001b[0m\u001b[0;34m:\u001b[0m\u001b[0;34m\u001b[0m\u001b[0;34m\u001b[0m\u001b[0m\n\u001b[0;32m---> 16\u001b[0;31m     raise ImportError(\n\u001b[0m\u001b[1;32m     17\u001b[0m         \u001b[0;34m\"Unable to import required dependencies:\\n\"\u001b[0m \u001b[0;34m+\u001b[0m \u001b[0;34m\"\\n\"\u001b[0m\u001b[0;34m.\u001b[0m\u001b[0mjoin\u001b[0m\u001b[0;34m(\u001b[0m\u001b[0mmissing_dependencies\u001b[0m\u001b[0;34m)\u001b[0m\u001b[0;34m\u001b[0m\u001b[0;34m\u001b[0m\u001b[0m\n\u001b[1;32m     18\u001b[0m     )\n",
      "\u001b[0;31mImportError\u001b[0m: Unable to import required dependencies:\nnumpy: \n\nIMPORTANT: PLEASE READ THIS FOR ADVICE ON HOW TO SOLVE THIS ISSUE!\n\nImporting the numpy c-extensions failed.\n- Try uninstalling and reinstalling numpy.\n- If you have already done that, then:\n  1. Check that you expected to use Python3.8 from \"/Users/Camila/Desktop/Business Analytics/Python Assignments/ba-venv/bin/python\",\n     and that you have no directories in your PATH or PYTHONPATH that can\n     interfere with the Python and numpy version \"1.18.3\" you're trying to use.\n  2. If (1) looks fine, you can open a new issue at\n     https://github.com/numpy/numpy/issues.  Please include details on:\n     - how you installed Python\n     - how you installed numpy\n     - your operating system\n     - whether or not you have multiple versions of Python installed\n     - if you built from source, your compiler versions and ideally a build log\n\n- If you're working with a numpy git repository, try `git clean -xdf`\n  (removes all files not under version control) and rebuild numpy.\n\nNote: this error has many possible causes, so please don't comment on\nan existing issue about this - open a new one instead.\n\nOriginal error was: No module named 'numpy.core._multiarray_umath'\n"
     ]
    }
   ],
   "source": [
    "# Import Libraries\n",
    "import pandas as pd\n",
    "import numpy as np\n",
    "import plotly.express as px\n",
    "import plotly.figure_factory as ff"
   ]
  },
  {
   "cell_type": "code",
   "execution_count": null,
   "metadata": {},
   "outputs": [],
   "source": [
    "# Import Data\n",
    "df_covid = pd.read_csv(\"https://raw.githubusercontent.com/nytimes/covid-19-data/master/us-counties.csv\")\n",
    "df_population = pd.read_csv(\"original_data_files/ACSST1Y2018.S0101_data_with_overlays_2020-04-02T080504.csv\")\n",
    "df_states = pd.read_excel(\"original_data_files/state-geocodes-v2018.xlsx\")\n",
    "df_counties = pd.read_excel(\"original_data_files/all-geocodes-v2018.xlsx\")\n",
    "df_hospitals = pd.read_csv(\"original_data_files/Hospitals.csv\")"
   ]
  },
  {
   "cell_type": "markdown",
   "metadata": {},
   "source": [
    "## Clean and Merge Data"
   ]
  },
  {
   "cell_type": "markdown",
   "metadata": {},
   "source": [
    "### 1. Clean and edit down ACS population data to get categories of total population, 18 and under, 60 and older, etc. "
   ]
  },
  {
   "cell_type": "code",
   "execution_count": null,
   "metadata": {},
   "outputs": [],
   "source": [
    "#df_population.head()\n",
    "#df_population.columns.tolist()"
   ]
  },
  {
   "cell_type": "code",
   "execution_count": null,
   "metadata": {},
   "outputs": [],
   "source": [
    "# make the first row (Row 0) the column header names\n",
    "df_population.columns = df_population.iloc[0]\n",
    "\n",
    "# remove the first row to make the dataframe all of the data after the first row\n",
    "df_population = df_population[1:]"
   ]
  },
  {
   "cell_type": "code",
   "execution_count": null,
   "metadata": {},
   "outputs": [],
   "source": [
    "# make a list of all columns that start with \"Margin of Error\"\n",
    "margin_error = df_population.columns.str.startswith(\"Margin of Error!!\")\n",
    "# keeep only NOT true values for margin of error\n",
    "df_pop_values = df_population.loc[:, ~margin_error]\n",
    "\n",
    "# remove columns that have a (X) value \n",
    "df_us_pop = df_pop_values.drop(columns=df_pop_values.columns[(df_pop_values == '(X)').any()])\n",
    "\n",
    "# strip \"Estimate!!\" from columns because it's on the outside of the name\n",
    "df_us_pop.columns = df_us_pop.columns.str.strip(\"Estimate!!\")\n",
    "\n",
    "# remove !!Total population from column headers by replacing with nothing\n",
    "df_us_pop.columns = df_us_pop.columns.str.replace(\"!!Total population\", \"\")"
   ]
  },
  {
   "cell_type": "code",
   "execution_count": null,
   "metadata": {},
   "outputs": [],
   "source": [
    "# make list of columns we want to keep for analysis\n",
    "uspop_col = ['d',\n",
    "             'Geographic Area N',\n",
    "             'Total',\n",
    "             'Male',\n",
    "             'Female',\n",
    "             'Total!!SELECTED AGE CATEGORIES!!Under 18 year',\n",
    "             'Male!!SELECTED AGE CATEGORIES!!Under 18 year',\n",
    "             'Female!!SELECTED AGE CATEGORIES!!Under 18 year',\n",
    "             'Total!!SELECTED AGE CATEGORIES!!60 years and over',\n",
    "             'Male!!SELECTED AGE CATEGORIES!!60 years and over',\n",
    "             'Female!!SELECTED AGE CATEGORIES!!60 years and over',\n",
    "             'Total!!SUMMARY INDICATORS!!Median age (years)',\n",
    "             'Total!!SUMMARY INDICATORS!!Sex ratio (males per 100 females)',\n",
    "             'Total!!SUMMARY INDICATORS!!Age dependency ratio',\n",
    "             'Total!!SUMMARY INDICATORS!!Old-age dependency ratio',\n",
    "             'Total!!SUMMARY INDICATORS!!Child dependency ratio',\n",
    "            ]\n",
    "\n",
    "# make new dataframe with only new column subset\n",
    "df_us_pop_filter = df_us_pop.filter(items = uspop_col)\n",
    "\n",
    "# remove \"!!SELECTED AGE CATEGORIES!!\" from column headers\n",
    "df_us_pop_filter.columns = df_us_pop_filter.columns.str.replace(\"!!SELECTED AGE CATEGORIES!!\", \" \")\n",
    "\n",
    "# remove \"TOTAL!!!SUMMARY INDICATORS!!\" from column headers\n",
    "df_us_pop_filter.columns = df_us_pop_filter.columns.str.replace(\"Total!!SUMMARY INDICATORS!!\", \"\")"
   ]
  },
  {
   "cell_type": "code",
   "execution_count": null,
   "metadata": {},
   "outputs": [],
   "source": [
    "# df_population.columns.tolist()\n",
    "df_us_pop_filter.head()"
   ]
  },
  {
   "cell_type": "markdown",
   "metadata": {},
   "source": [
    "### 2. Edit County FIPS data to include a full county FIPS code"
   ]
  },
  {
   "cell_type": "code",
   "execution_count": null,
   "metadata": {},
   "outputs": [],
   "source": [
    "#df_states.head()"
   ]
  },
  {
   "cell_type": "code",
   "execution_count": null,
   "metadata": {},
   "outputs": [],
   "source": [
    "#df_counties.head()"
   ]
  },
  {
   "cell_type": "code",
   "execution_count": null,
   "metadata": {},
   "outputs": [],
   "source": [
    "# re-import state data\n",
    "df_states = pd.read_excel(\"original_data_files/state-geocodes-v2018.xlsx\", skiprows = 5)\n",
    "\n",
    "# re-import countydata\n",
    "df_county = pd.read_excel(\"original_data_files/all-geocodes-v2018.xlsx\", skiprows = 4)"
   ]
  },
  {
   "cell_type": "code",
   "execution_count": null,
   "metadata": {},
   "outputs": [],
   "source": [
    "# remove if county code is 0 (entire united states)\n",
    "df_county = df_county[df_county[\"County Code (FIPS)\"] != 0]\n",
    "\n",
    "# convert state and county fips columns to strings\n",
    "df_county[[\"State Code (FIPS)\", \"County Code (FIPS)\"]] = df_county[[\"State Code (FIPS)\", \"County Code (FIPS)\"]].astype(str)\n",
    "\n",
    "# add leading zeros for a two digit value in state fips\n",
    "df_county[\"State Code (FIPS)\"] = df_county[\"State Code (FIPS)\"].str.zfill(2)\n",
    "\n",
    "# add leading zeros for three digit value in county fips\n",
    "df_county[\"County Code (FIPS)\"] = df_county[\"County Code (FIPS)\"].str.zfill(3)\n",
    "\n",
    "# make full county fips number\n",
    "df_county[\"full_county_fips\"] = df_county[\"State Code (FIPS)\"] + df_county[\"County Code (FIPS)\"]\n",
    "\n",
    "# make full county fips number\n",
    "df_county[\"full_county_fips\"] = df_county[\"State Code (FIPS)\"] + df_county[\"County Code (FIPS)\"]"
   ]
  },
  {
   "cell_type": "code",
   "execution_count": null,
   "metadata": {},
   "outputs": [],
   "source": [
    "df_county.head()"
   ]
  },
  {
   "cell_type": "markdown",
   "metadata": {},
   "source": [
    "### 3. Merge County and State data to create County, State unique identifier"
   ]
  },
  {
   "cell_type": "code",
   "execution_count": null,
   "metadata": {},
   "outputs": [],
   "source": [
    "df_states.head()"
   ]
  },
  {
   "cell_type": "code",
   "execution_count": null,
   "metadata": {},
   "outputs": [],
   "source": [
    "df_county.head()"
   ]
  },
  {
   "cell_type": "code",
   "execution_count": null,
   "metadata": {},
   "outputs": [],
   "source": [
    "# convert state fips code to string\n",
    "df_states[\"State (FIPS)\"] = df_states[\"State (FIPS)\"].astype(str)\n",
    "\n",
    "# add preceding zeros to make 2-digit FIPS codes\n",
    "df_states[\"State (FIPS)\"] = df_states[\"State (FIPS)\"].str.zfill(2)"
   ]
  },
  {
   "cell_type": "code",
   "execution_count": null,
   "metadata": {},
   "outputs": [],
   "source": [
    "# merge state name onto county fips dataframe\n",
    "df_county = pd.merge(df_county, \n",
    "                     df_states[[\"State (FIPS)\", \"Name\"]], \n",
    "                     how = \"left\", \n",
    "                     left_on = \"State Code (FIPS)\", \n",
    "                     right_on = \"State (FIPS)\")\n",
    "\n",
    "# create column of county state and name\n",
    "df_county[\"county_state_name\"] = df_county[\"Area Name (including legal/statistical area description)\"] + \", \" + df_county[\"Name\"]"
   ]
  },
  {
   "cell_type": "markdown",
   "metadata": {},
   "source": [
    "### 4. Merge the County, State FIPS code columns onto the population dataframe"
   ]
  },
  {
   "cell_type": "code",
   "execution_count": null,
   "metadata": {},
   "outputs": [],
   "source": [
    "# merge full county fips name and number to population dataframe\n",
    "df_county_pop = pd.merge(df_us_pop_filter,\n",
    "                         df_county[[\"county_state_name\", \"full_county_fips\"]],\n",
    "                         how = \"left\",\n",
    "                         left_on = \"Geographic Area N\",\n",
    "                         right_on = \"county_state_name\"\n",
    "                        )\n",
    "\n",
    "# remove rows that have null values in the county, state name and fips number\n",
    "df_county_pop = df_county_pop[df_county_pop[\"full_county_fips\"].notnull()]"
   ]
  },
  {
   "cell_type": "code",
   "execution_count": null,
   "metadata": {},
   "outputs": [],
   "source": [
    "# make list of columns to convert to integers to use in calculations later\n",
    "int_list = [\n",
    " 'Total',\n",
    " 'Male',\n",
    " 'Female',\n",
    " 'Total Under 18 year',\n",
    " 'Male Under 18 year',\n",
    " 'Female Under 18 year',\n",
    " 'Total 60 years and over',\n",
    " 'Male 60 years and over',\n",
    " 'Female 60 years and over']\n",
    "\n",
    "# columns to convert to floats\n",
    "float_list = [ \n",
    "    'Median age (years)',\n",
    "    'Sex ratio (males per 100 females)',\n",
    "    'Age dependency ratio',\n",
    "    'Old-age dependency ratio',\n",
    "    'Child dependency ratio']\n",
    "\n",
    "# convert columns in int_list to integers\n",
    "df_county_pop[int_list] = df_county_pop[int_list].astype(int)\n",
    "df_county_pop[float_list] = df_county_pop[float_list].astype(float)"
   ]
  },
  {
   "cell_type": "code",
   "execution_count": null,
   "metadata": {},
   "outputs": [],
   "source": [
    "# percentage of pop under 18 yo\n",
    "df_county_pop[\"percent_under18\"] = (df_county_pop[\"Total Under 18 year\"]/df_county_pop[\"Total\"])*100\n",
    "\n",
    "# percentage of county residents over 60 years old\n",
    "df_county_pop[\"percent_over60\"] = (df_county_pop[\"Total 60 years and over\"]/df_county_pop[\"Total\"])*100"
   ]
  },
  {
   "cell_type": "code",
   "execution_count": null,
   "metadata": {},
   "outputs": [],
   "source": [
    "df_county_pop.head()"
   ]
  },
  {
   "cell_type": "markdown",
   "metadata": {},
   "source": [
    "### 5. Merge the Hospital bed and count columns onto the population dataframe"
   ]
  },
  {
   "cell_type": "code",
   "execution_count": null,
   "metadata": {},
   "outputs": [],
   "source": [
    "#df_hospitals.head()\n",
    "#df_hospitals.columns.tolist()"
   ]
  },
  {
   "cell_type": "code",
   "execution_count": null,
   "metadata": {},
   "outputs": [],
   "source": [
    "# remove values in hospital df with \"NOT AVAILABLE\" values\n",
    "df_hospitals = df_hospitals[df_hospitals[\"COUNTYFIPS\"] != \"NOT AVAILABLE\"]\n",
    "\n",
    "# remove nulls from countyfips column\n",
    "df_hospitals = df_hospitals[df_hospitals[\"COUNTYFIPS\"].notnull()]\n",
    "\n",
    "# remove if beds is -999\n",
    "df_county_hospitals = df_hospitals[df_hospitals[\"BEDS\"] != -999]"
   ]
  },
  {
   "cell_type": "code",
   "execution_count": null,
   "metadata": {},
   "outputs": [],
   "source": [
    "# calculate number of hospitals, beds per county\n",
    "# create an aggregated table for these values\n",
    "df_county_hospitals = df_hospitals.groupby(\"COUNTYFIPS\").agg({\"BEDS\": \"sum\", \n",
    "                                                                \"NAME\": \"count\"}).reset_index()"
   ]
  },
  {
   "cell_type": "code",
   "execution_count": null,
   "metadata": {},
   "outputs": [],
   "source": [
    "# merge hospital data onto county population data\n",
    "df_county_health = pd.merge(df_county_pop,\n",
    "                           df_county_hospitals,\n",
    "                           how = \"left\",\n",
    "                           left_on = \"full_county_fips\",\n",
    "                           right_on = \"COUNTYFIPS\")\n",
    "\n",
    "# we're missing 10 county matches, so we'll delete these for now\n",
    "df_county_health = df_county_health[df_county_health[\"COUNTYFIPS\"].notnull()]"
   ]
  },
  {
   "cell_type": "code",
   "execution_count": null,
   "metadata": {},
   "outputs": [],
   "source": [
    "# export county health information to csv\n",
    "df_county_health.to_csv(\"us_county_population_hospital_data_2018.csv\")"
   ]
  },
  {
   "cell_type": "markdown",
   "metadata": {},
   "source": [
    "### 6. Merge the COVID-19 growth data onto the population dataframe"
   ]
  },
  {
   "cell_type": "code",
   "execution_count": null,
   "metadata": {},
   "outputs": [],
   "source": [
    "# sort county data by 18 under population \n",
    "df_total_pop = df_county_health.sort_values(by = \"Total\", ascending = False)\n",
    "\n",
    "# top 20 \n",
    "df_total_top20 = df_total_pop.head(20)"
   ]
  },
  {
   "cell_type": "code",
   "execution_count": null,
   "metadata": {},
   "outputs": [],
   "source": [
    "# make a graph to show percent of largest 18 under population \n",
    "bar_total_pop = px.bar(df_total_top20,\n",
    "                   x = \"Geographic Area N\",\n",
    "                   y = \"Total\",\n",
    "                   title = \"US Counties with the Highest Total Population\",\n",
    "                   labels = {\"Geographic Area N\": \"County, State Name\", \"Total\": \"Total Population\"})"
   ]
  },
  {
   "cell_type": "code",
   "execution_count": null,
   "metadata": {},
   "outputs": [],
   "source": [
    "bar_total_pop"
   ]
  },
  {
   "cell_type": "code",
   "execution_count": null,
   "metadata": {},
   "outputs": [],
   "source": []
  },
  {
   "cell_type": "markdown",
   "metadata": {},
   "source": [
    "## Create Data Visualizations of Relationshops between county populations and hospital bed counts and any correlations between our data. "
   ]
  },
  {
   "cell_type": "markdown",
   "metadata": {},
   "source": []
  }
 ],
 "metadata": {
  "kernelspec": {
   "display_name": "ba-venv",
   "language": "python",
   "name": "ba-venv"
  },
  "language_info": {
   "codemirror_mode": {
    "name": "ipython",
    "version": 3
   },
   "file_extension": ".py",
   "mimetype": "text/x-python",
   "name": "python",
   "nbconvert_exporter": "python",
   "pygments_lexer": "ipython3",
   "version": "3.8.1"
  }
 },
 "nbformat": 4,
 "nbformat_minor": 4
}
